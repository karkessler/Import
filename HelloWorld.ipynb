{
  "nbformat": 4,
  "nbformat_minor": 0,
  "metadata": {
    "colab": {
      "name": "HelloWorld.ipynb",
      "provenance": [],
      "collapsed_sections": [],
      "authorship_tag": "ABX9TyNZUCrqrB9JlzsMQJIBtrU9",
      "include_colab_link": true
    },
    "kernelspec": {
      "name": "python3",
      "display_name": "Python 3"
    }
  },
  "cells": [
    {
      "cell_type": "markdown",
      "metadata": {
        "id": "view-in-github",
        "colab_type": "text"
      },
      "source": [
        "<a href=\"https://colab.research.google.com/github/karkessler/Import/blob/master/HelloWorld.ipynb\" target=\"_parent\"><img src=\"https://colab.research.google.com/assets/colab-badge.svg\" alt=\"Open In Colab\"/></a>"
      ]
    },
    {
      "cell_type": "code",
      "metadata": {
        "colab": {
          "base_uri": "https://localhost:8080/"
        },
        "id": "kylC2TWP3fj_",
        "outputId": "8d74970f-6545-4ff6-b3c7-aadee6229fd1"
      },
      "source": [
        "import random\r\n",
        "import numpy as np\r\n",
        "\r\n",
        "python_floats = [random.uniform(0,1) for _ in range(5)]\r\n",
        "print(python_floats) # Element-Typ\r\n",
        "np.sum(python_floats)\r\n",
        "conda install -c conda-forge scikit-learn "
      ],
      "execution_count": 19,
      "outputs": [
        {
          "output_type": "stream",
          "text": [
            "[0.297299159730811, 0.17160775631088065, 0.6096739877678653, 0.5873861480618665, 0.6047441581006887]\n"
          ],
          "name": "stdout"
        }
      ]
    }
  ]
}