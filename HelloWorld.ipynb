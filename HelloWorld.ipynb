{
  "nbformat": 4,
  "nbformat_minor": 0,
  "metadata": {
    "colab": {
      "name": "HelloWorld.ipynb",
      "provenance": [],
      "collapsed_sections": [],
      "authorship_tag": "ABX9TyNYK7EY8FfGXbqa/NBQSDw7",
      "include_colab_link": true
    },
    "kernelspec": {
      "name": "python3",
      "display_name": "Python 3"
    }
  },
  "cells": [
    {
      "cell_type": "markdown",
      "metadata": {
        "id": "view-in-github",
        "colab_type": "text"
      },
      "source": [
        "<a href=\"https://colab.research.google.com/github/karkessler/Import/blob/master/HelloWorld.ipynb\" target=\"_parent\"><img src=\"https://colab.research.google.com/assets/colab-badge.svg\" alt=\"Open In Colab\"/></a>"
      ]
    },
    {
      "cell_type": "code",
      "metadata": {
        "colab": {
          "base_uri": "https://localhost:8080/"
        },
        "id": "kylC2TWP3fj_",
        "outputId": "beea72cf-9d0d-4c26-b68c-996c03f92e2f"
      },
      "source": [
        "# This program adds two numbers\r\n",
        "\r\n",
        "num1 = 1.5\r\n",
        "num2 = 6.3\r\n",
        "\r\n",
        "# Add two numbers\r\n",
        "sum = num1 + num2\r\n",
        "\r\n",
        "# Display the sum\r\n",
        "print('The sum of {0} and {1} is {2}'.format(num1, num2, sum))"
      ],
      "execution_count": 6,
      "outputs": [
        {
          "output_type": "stream",
          "text": [
            "The sum of 1.5 and 6.3 is 7.8\n"
          ],
          "name": "stdout"
        }
      ]
    }
  ]
}